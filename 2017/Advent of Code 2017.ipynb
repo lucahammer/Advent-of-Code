{
 "cells": [
  {
   "cell_type": "markdown",
   "metadata": {},
   "source": [
    "# Advent of Code 2017\n",
    "\n",
    "http://adventofcode.com/2017/\n",
    "\n",
    "This notebook on Google Colab: https://drive.google.com/file/d/13fXSEUkQrr1nSSeBszQmikYKPV2_7Hja/view?usp=sharing\n",
    "\n",
    "## Day 1 Inverse Captcha\n",
    "\n",
    "The night before Christmas, one of Santa's Elves calls you in a panic. \"The printer's broken! We can't print the Naughty or Nice List!\" By the time you make it to sub-basement 17, there are only a few minutes until midnight. \"We have a big problem,\" she says; \"there must be almost fifty bugs in this system, but nothing else can print The List. Stand in this square, quick! There's no time to explain; if you can convince them to pay you in stars, you'll be able to--\" She pulls a lever and the world goes blurry.\n",
    "\n",
    "When your eyes can focus again, everything seems a lot more pixelated than before. She must have sent you inside the computer! You check the system clock: 25 milliseconds until midnight. With that much time, you should be able to collect all fifty stars by December 25th.\n",
    "\n",
    "Collect stars by solving puzzles. Two puzzles will be made available on each day millisecond in the advent calendar; the second puzzle is unlocked when you complete the first. Each puzzle grants one star. Good luck!\n",
    "\n",
    "You're standing in a room with \"digitization quarantine\" written in LEDs along one wall. The only door is locked, but it includes a small interface. \"Restricted Area - Strictly No Digitized Users Allowed.\"\n",
    "\n",
    "It goes on to explain that you may only leave by solving a captcha to prove you're not a human. Apparently, you only get one millisecond to solve the captcha: too fast for a normal human, but it feels like hours to you.\n",
    "\n",
    "The captcha requires you to review a sequence of digits (your puzzle input) and find the sum of all digits that match the next digit in the list. The list is circular, so the digit after the last digit is the first digit in the list.\n",
    "\n",
    "__For example:__\n",
    "* 1122 produces a sum of 3 (1 + 2) because the first digit (1) matches the second digit and the third digit (2) matches the fourth digit.\n",
    "* 1111 produces 4 because each digit (all 1) matches the next.\n",
    "* 1234 produces 0 because no digit matches the next.\n",
    "* 91212129 produces 9 because the only digit that matches the next one is the last digit, 9."
   ]
  },
  {
   "cell_type": "code",
   "execution_count": 9,
   "metadata": {},
   "outputs": [
    {
     "name": "stdout",
     "output_type": "stream",
     "text": [
      "1253\n"
     ]
    }
   ],
   "source": [
    "# sum of digits that match the next digit\n",
    "with open('input/day1_1.txt') as f:\n",
    "    input = f.read()\n",
    "\n",
    "numbers = list(input)\n",
    "numbers = list(map(int, numbers))\n",
    "summe = 0\n",
    "\n",
    "for x in range(0, len(numbers)):\n",
    "    if (x+1 < len(numbers)):\n",
    "        if (numbers[x] == numbers[x+1]):\n",
    "            summe += numbers[x]\n",
    "\n",
    "if numbers[len(numbers)-1] == numbers[0]:\n",
    "    summe += numbers[len(numbers)-1]\n",
    "    \n",
    "print (summe)"
   ]
  },
  {
   "cell_type": "markdown",
   "metadata": {},
   "source": [
    "You notice a progress bar that jumps to 50% completion. Apparently, the door isn't yet satisfied, but it did emit a star as encouragement. The instructions change:\n",
    "\n",
    "Now, instead of considering the next digit, it wants you to consider the digit halfway around the circular list. That is, if your list contains 10 items, only include a digit in your sum if the digit 10/2 = 5 steps forward matches it. Fortunately, your list has an even number of elements.\n",
    "\n",
    "__For example:__\n",
    "* 1212 produces 6: the list contains 4 items, and all four digits match the digit 2 items ahead.\n",
    "* 1221 produces 0, because every comparison is between a 1 and a 2.\n",
    "* 123425 produces 4, because both 2s match each other, but no other digit has a match.\n",
    "* 123123 produces 12.\n",
    "* 12131415 produces 4."
   ]
  },
  {
   "cell_type": "code",
   "execution_count": 10,
   "metadata": {},
   "outputs": [
    {
     "name": "stdout",
     "output_type": "stream",
     "text": [
      "1278\n"
     ]
    }
   ],
   "source": [
    "# sum of digits that match char half length forward\n",
    "with open('input/day1_2.txt') as f:\n",
    "    input = f.read()\n",
    "\n",
    "numbers = list(input)\n",
    "numbers = list(map(int, numbers))\n",
    "summe = 0\n",
    "sprung = int(len(input)/2)\n",
    "\n",
    "input += input\n",
    "input += input\n",
    "numbers = list(input)\n",
    "numbers = list(map(int, numbers))\n",
    "\n",
    "for x in range(0, sprung*2):\n",
    "    if (numbers[x] == numbers[x+sprung]):\n",
    "        summe += numbers[x]\n",
    "    \n",
    "print (summe)"
   ]
  },
  {
   "cell_type": "markdown",
   "metadata": {},
   "source": [
    "## Day 2: Corruption Checksum \n",
    "\n",
    "As you walk through the door, a glowing humanoid shape yells in your direction. \"You there! Your state appears to be idle. Come help us repair the corruption in this spreadsheet - if we take another millisecond, we'll have to display an hourglass cursor!\"\n",
    "\n",
    "The spreadsheet consists of rows of apparently-random numbers. To make sure the recovery process is on the right track, they need you to calculate the spreadsheet's checksum. For each row, determine the difference between the largest value and the smallest value; the checksum is the sum of all of these differences.\n",
    "\n",
    "__For example, given the following spreadsheet:__\n",
    "\n",
    "```5 1 9 5\n",
    "7 5 3\n",
    "2 4 6 8```\n",
    "\n",
    "* The first row's largest and smallest values are 9 and 1, and their difference is 8.\n",
    "* The second row's largest and smallest values are 7 and 3, and their difference is 4.\n",
    "* The third row's difference is 6.\n",
    "* In this example, the spreadsheet's checksum would be 8 + 4 + 6 = 18."
   ]
  },
  {
   "cell_type": "code",
   "execution_count": 11,
   "metadata": {},
   "outputs": [
    {
     "name": "stdout",
     "output_type": "stream",
     "text": [
      "47623\n"
     ]
    }
   ],
   "source": [
    "# sum of difference of lowest and highest number of each row\n",
    "with open('input/day2_1.txt') as f:\n",
    "    input = f.read()\n",
    "\n",
    "checksum = 0\n",
    "lines = input.split('\\n')\n",
    "for line in lines:\n",
    "    cells = line.split()\n",
    "    cells = list(map(int, cells))\n",
    "    diff = max(cells) - min(cells)\n",
    "    checksum += diff\n",
    "print(checksum)"
   ]
  },
  {
   "cell_type": "markdown",
   "metadata": {},
   "source": [
    "\"Great work; looks like we're on the right track after all. Here's a star for your effort.\" However, the program seems a little worried. Can programs be worried?\n",
    "\n",
    "\"Based on what we're seeing, it looks like all the User wanted is some information about the evenly divisible values in the spreadsheet. Unfortunately, none of us are equipped for that kind of calculation - most of us specialize in bitwise operations.\"\n",
    "\n",
    "It sounds like the goal is to find the only two numbers in each row where one evenly divides the other - that is, where the result of the division operation is a whole number. They would like you to find those numbers on each line, divide them, and add up each line's result.\n",
    "\n",
    "__For example, given the following spreadsheet:__\n",
    "\n",
    "```5 9 2 8\n",
    "9 4 7 3\n",
    "3 8 6 5```\n",
    "\n",
    "* In the first row, the only two numbers that evenly divide are 8 and 2; the result of this division is 4.\n",
    "* In the second row, the two numbers are 9 and 3; the result is 3.\n",
    "* In the third row, the result is 2.\n",
    "* In this example, the sum of the results would be 4 + 3 + 2 = 9."
   ]
  },
  {
   "cell_type": "code",
   "execution_count": 12,
   "metadata": {},
   "outputs": [
    {
     "name": "stdout",
     "output_type": "stream",
     "text": [
      "312.0\n"
     ]
    }
   ],
   "source": [
    "# find numbers that evenly divide and sum results\n",
    "with open('input/day2_2.txt') as f:\n",
    "    input = f.read()\n",
    "\n",
    "checksum = 0\n",
    "lines = input.split('\\n')\n",
    "for line in lines:\n",
    "    cells = line.split()\n",
    "    cells = list(map(int, cells))\n",
    "    for x in range(0, len(cells)):\n",
    "        for y in range(0, len(cells)):\n",
    "            if x != y:\n",
    "                if (cells[x] % cells[y] == 0):\n",
    "                    #print(str(cells[x]) + ' '+ str(cells[y]))\n",
    "                    checksum += cells[x] / cells[y]\n",
    "print(checksum)\n"
   ]
  },
  {
   "cell_type": "markdown",
   "metadata": {},
   "source": [
    "## Day 3: Spiral Memory\n",
    "\n",
    "You come across an experimental new kind of memory stored on an infinite two-dimensional grid.\n",
    "\n",
    "Each square on the grid is allocated in a spiral pattern starting at a location marked 1 and then counting up while spiraling outward. For example, the first few squares are allocated like this:\n",
    "\n",
    "```17  16  15  14  13\n",
    "18   5   4   3  12\n",
    "19   6   1   2  11\n",
    "20   7   8   9  10\n",
    "21  22  23---> ...```\n",
    "\n",
    "While this is very space-efficient (no squares are skipped), requested data must be carried back to square 1 (the location of the only access port for this memory system) by programs that can only move up, down, left, or right. They always take the shortest path: the Manhattan Distance between the location of the data and square 1.\n",
    "\n",
    "__For example:__\n",
    "\n",
    "* Data from square 1 is carried 0 steps, since it's at the access port.\n",
    "* Data from square 12 is carried 3 steps, such as: down, left, left.\n",
    "* Data from square 23 is carried only 2 steps: up twice.\n",
    "* Data from square 1024 must be carried 31 steps.\n",
    "\n",
    "How many steps are required to carry the data from the square identified in your puzzle input all the way to the access port?\n",
    "\n",
    "3^2 -> 1 2 1 1 2 1 2 1 2\n",
    "\n",
    "5^2 -> 3 2 3 4 3 2 3 4 3 2 3 4 3 2 4\n",
    "\n",
    "7^2 -> 5 4 3 4 5 6\n",
    "\n",
    "9^2 -> 7 6 5 4 \n",
    "\n",
    "ringe\n",
    "4 seiten "
   ]
  },
  {
   "cell_type": "code",
   "execution_count": 13,
   "metadata": {},
   "outputs": [
    {
     "name": "stdout",
     "output_type": "stream",
     "text": [
      "371\n"
     ]
    }
   ],
   "source": [
    "def dist(number):\n",
    "    position = [0, 0]\n",
    "    n = 0\n",
    "    turns = 0\n",
    "        \n",
    "    while n <= number:\n",
    "        length = (turns // 2) + 1\n",
    "        for x in range(length):\n",
    "            if n == number - 1:\n",
    "                return (abs(position[0]) + abs(position[1]))\n",
    "            n += 1\n",
    "            direction = turns % 4\n",
    "            if direction == 0:\n",
    "                position[0] += 1\n",
    "            elif direction == 1:\n",
    "                position[1] += 1\n",
    "            elif direction == 2:\n",
    "                position[0] -= 1\n",
    "            else:\n",
    "                position[1] -= 1\n",
    "        turns += 1\n",
    "    \n",
    "\n",
    "print(dist(368078))\n",
    "\n",
    "assert(dist(1)==0)\n",
    "assert(dist(12)==3)\n",
    "assert(dist(23)==2)\n",
    "assert(dist(1024)==31)"
   ]
  },
  {
   "cell_type": "markdown",
   "metadata": {},
   "source": [
    "As a stress test on the system, the programs here clear the grid and then store the value 1 in square 1. Then, in the same allocation order as shown above, they store the sum of the values in all adjacent squares, including diagonals.\n",
    "\n",
    "So, the first few squares' values are chosen as follows:\n",
    "\n",
    "Square 1 starts with the value 1.\n",
    "Square 2 has only one adjacent filled square (with value 1), so it also stores 1.\n",
    "Square 3 has both of the above squares as neighbors and stores the sum of their values, 2.\n",
    "Square 4 has all three of the aforementioned squares as neighbors and stores the sum of their values, 4.\n",
    "Square 5 only has the first and fourth squares as neighbors, so it gets the value 5.\n",
    "Once a square is written, its value does not change. Therefore, the first few squares would receive the following values:\n",
    "\n",
    "```147  142  133  122   59\n",
    "304    5    4    2   57\n",
    "330   10    1    1   54\n",
    "351   11   23   25   26\n",
    "362  747  806--->   ...\n",
    "```\n",
    "\n",
    "What is the first value written that is larger than your puzzle input?"
   ]
  },
  {
   "cell_type": "code",
   "execution_count": 14,
   "metadata": {
    "collapsed": true
   },
   "outputs": [],
   "source": [
    "# spiral out with sum of adjacent spaces\n",
    "# :("
   ]
  },
  {
   "cell_type": "markdown",
   "metadata": {
    "collapsed": true
   },
   "source": [
    "## Day 4: High-Entropy Passphrases\n",
    "\n",
    "A new system policy has been put in place that requires all accounts to use a passphrase instead of simply a password. A passphrase consists of a series of words (lowercase letters) separated by spaces.\n",
    "\n",
    "To ensure security, a valid passphrase must contain no duplicate words.\n",
    "\n",
    "__For example:__\n",
    "\n",
    "* aa bb cc dd ee is valid.\n",
    "* aa bb cc dd aa is not valid - the word aa appears more than once.\n",
    "* aa bb cc dd aaa is valid - aa and aaa count as different words.\n",
    "\n",
    "The system's full passphrase list is available as your puzzle input. How many passphrases are valid?"
   ]
  },
  {
   "cell_type": "code",
   "execution_count": 15,
   "metadata": {},
   "outputs": [
    {
     "name": "stdout",
     "output_type": "stream",
     "text": [
      "466\n"
     ]
    }
   ],
   "source": [
    "# how many rows have no duplicate words\n",
    "with open('input/day4_1.txt') as f:\n",
    "    input = f.read()\n",
    "\n",
    "number_of_valids = 0\n",
    "\n",
    "phrases = input.split('\\n')\n",
    "for phrase in phrases:\n",
    "    words = phrase.split()\n",
    "    if (len(words) == len(set(words))):\n",
    "      number_of_valids += 1\n",
    "print (number_of_valids)\n"
   ]
  },
  {
   "cell_type": "markdown",
   "metadata": {},
   "source": [
    "For added security, yet another system policy has been put in place. Now, a valid passphrase must contain no two words that are anagrams of each other - that is, a passphrase is invalid if any word's letters can be rearranged to form any other word in the passphrase.\n",
    "\n",
    "__For example:__\n",
    "\n",
    "* abcde fghij is a valid passphrase.\n",
    "* abcde xyz ecdab is not valid - the letters from the third word can be rearranged to form the first word.\n",
    "* a ab abc abd abf abj is a valid passphrase, because all letters need to be used when forming another word.\n",
    "* iiii oiii ooii oooi oooo is valid.\n",
    "* oiii ioii iioi iiio is not valid - any of these words can be rearranged to form any other word.\n",
    "\n",
    "Under this new system policy, how many passphrases are valid?"
   ]
  },
  {
   "cell_type": "code",
   "execution_count": 16,
   "metadata": {},
   "outputs": [
    {
     "name": "stdout",
     "output_type": "stream",
     "text": [
      "251\n"
     ]
    }
   ],
   "source": [
    "# how many aren't anagrams\n",
    "with open('input/day4_2.txt') as f:\n",
    "    input = f.read()\n",
    "\n",
    "number_of_valids = 0\n",
    "\n",
    "def sortchars(word):\n",
    "  return (''.join(sorted(word)))\n",
    "\n",
    "phrases = input.split('\\n')\n",
    "for phrase in phrases:\n",
    "    words = phrase.split()\n",
    "    sorted_words = list(map(sortchars, words))\n",
    "    if (len(sorted_words) == len(set(sorted_words))):\n",
    "      number_of_valids += 1\n",
    "print (number_of_valids)"
   ]
  }
 ],
 "metadata": {
  "kernelspec": {
   "display_name": "Python 3",
   "language": "python",
   "name": "python3"
  },
  "language_info": {
   "codemirror_mode": {
    "name": "ipython",
    "version": 3
   },
   "file_extension": ".py",
   "mimetype": "text/x-python",
   "name": "python",
   "nbconvert_exporter": "python",
   "pygments_lexer": "ipython3",
   "version": "3.6.1"
  }
 },
 "nbformat": 4,
 "nbformat_minor": 2
}
